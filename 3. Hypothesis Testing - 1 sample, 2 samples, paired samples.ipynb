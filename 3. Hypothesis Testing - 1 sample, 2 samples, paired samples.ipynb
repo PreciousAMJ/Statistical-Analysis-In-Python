{
 "cells": [
  {
   "cell_type": "markdown",
   "metadata": {},
   "source": [
    "### one sample test\n",
    "A one sample test is used to test whether or not the mean of a population is equal to some value.\n",
    "\n",
    "For example, suppose we want to know whether or not the mean weight of a certain species of some turtle is equal to 310 pounds.\n",
    "\n",
    "To test this, we go out and collect a simple random sample of turtles with the following weights:"
   ]
  },
  {
   "cell_type": "code",
   "execution_count": 2,
   "metadata": {},
   "outputs": [
    {
     "data": {
      "text/plain": [
       "(-1.5848116313861254, 0.11300913889451164)"
      ]
     },
     "execution_count": 2,
     "metadata": {},
     "output_type": "execute_result"
    }
   ],
   "source": [
    "import scipy.stats as stats\n",
    "\n",
    "#define data\n",
    "data = [300, 315, 320, 311, 314, 309, 300, 308, 305, 303, 305, 301, 303]\n",
    "\n",
    "#perform one sample t-test\n",
    "stats.ttest_1samp(a=data, popmean=310)"
   ]
  },
  {
   "cell_type": "code",
   "execution_count": 6,
   "metadata": {},
   "outputs": [
    {
     "data": {
      "text/plain": [
       "(-1.5848116313861254, 0.11300913889451164)"
      ]
     },
     "execution_count": 6,
     "metadata": {},
     "output_type": "execute_result"
    }
   ],
   "source": [
    "# for z-test\n",
    "from statsmodels.stats.weightstats import ztest as ztest\n",
    "ztest(data, value =310 ) # value refers to the mean under the null, or mean difference (for two sample case)"
   ]
  },
  {
   "cell_type": "markdown",
   "metadata": {},
   "source": [
    "Because the p-value of our test (0.1389) is greater than alpha = 0.05, we fail to reject the null hypothesis of the test.\n",
    "\n",
    "We do not have sufficient evidence to say that the mean weight for this particular species of turtle is different from 310 pounds."
   ]
  },
  {
   "cell_type": "markdown",
   "metadata": {},
   "source": [
    "### Two Sample test in Python\n",
    "\n",
    "A two sample test is used to test whether or not the means of two populations are equal.\n",
    "\n",
    "For example, suppose we want to know whether or not the mean weight between two different species of turtles is equal."
   ]
  },
  {
   "cell_type": "code",
   "execution_count": 4,
   "metadata": {},
   "outputs": [
    {
     "data": {
      "text/plain": [
       "Ttest_indResult(statistic=-2.10090292575557, pvalue=0.04633501389516513)"
      ]
     },
     "execution_count": 4,
     "metadata": {},
     "output_type": "execute_result"
    }
   ],
   "source": [
    "import scipy.stats as stats \n",
    "\n",
    "#define array of turtle weights for each sample\n",
    "sample1 = [300, 315, 320, 311, 314, 309, 300, 308, 305, 303, 305, 301, 303]\n",
    "sample2 = [335, 329, 322, 321, 324, 319, 304, 308, 305, 311, 307, 300, 305]\n",
    "\n",
    "#perform two sample t-test\n",
    "stats.ttest_ind(a=sample1, b=sample2)"
   ]
  },
  {
   "cell_type": "code",
   "execution_count": 5,
   "metadata": {},
   "outputs": [
    {
     "data": {
      "text/plain": [
       "(-2.1009029257555696, 0.03564948854888866)"
      ]
     },
     "execution_count": 5,
     "metadata": {},
     "output_type": "execute_result"
    }
   ],
   "source": [
    "# for z-test\n",
    "ztest(sample1, sample2, value = 0)"
   ]
  },
  {
   "cell_type": "markdown",
   "metadata": {},
   "source": [
    "Since the p-value of the test (0.0463) is less than .05, we reject the null hypothesis.\n",
    "\n",
    "This means we have sufficient evidence to say that the mean weight between the two species is not equal."
   ]
  },
  {
   "cell_type": "markdown",
   "metadata": {},
   "source": [
    "### A paired samples test\n",
    "\n",
    "is used to compare the means of two samples when each observation in one sample can be paired with an observation in the other sample.\n",
    "\n",
    "For example, suppose we want to know whether or not a certain training program is able to increase the max vertical jump (in inches) of basketball players.\n",
    "\n",
    "To test this, we may recruit a simple random sample of 12 college basketball players and measure each of their max vertical jumps. Then, we may have each player use the training program for one month and then measure their max vertical jump again at the end of the month.\n",
    "\n",
    "The following data shows the max jump height (in inches) before and after using the training program for each player:"
   ]
  },
  {
   "cell_type": "code",
   "execution_count": 13,
   "metadata": {},
   "outputs": [
    {
     "data": {
      "text/plain": [
       "Ttest_relResult(statistic=-2.5289026942943655, pvalue=0.02802807458682508)"
      ]
     },
     "execution_count": 13,
     "metadata": {},
     "output_type": "execute_result"
    }
   ],
   "source": [
    "import scipy.stats as stats  \n",
    "\n",
    "#define before and after max jump heights\n",
    "before = [22, 24, 20, 19, 19, 20, 22, 25, 24, 23, 22, 21]\n",
    "after = [23, 25, 20, 24, 18, 22, 23, 28, 24, 25, 24, 20]\n",
    "\n",
    "#perform paired samples t-test\n",
    "stats.ttest_rel(a=before, b=after)"
   ]
  },
  {
   "cell_type": "code",
   "execution_count": 23,
   "metadata": {},
   "outputs": [
    {
     "data": {
      "text/plain": [
       "(-2.5289026942943655, 0.011441974423335222)"
      ]
     },
     "execution_count": 23,
     "metadata": {},
     "output_type": "execute_result"
    }
   ],
   "source": [
    "# for Z-test\n",
    "# If the assumed population difference is zero (as stated in the null hypothesis), the paired Z-test reduces to the one sample Z-test.\n",
    "# Hence, we will perform one sample Z-test on paired differences.\n",
    "# since in paired samples, you need to test if the mean of the difference observed between the measurements is different from 0\n",
    "import numpy as np # we have to use numpy to get the differnce between the two samples, because we can't subtract two lists normally\n",
    "before = np.array(before)\n",
    "after = np.array(after)\n",
    "diff = np.subtract(before, after)\n",
    "diff = list(diff) # to convert the subtracted numpy array back to a list\n",
    "diff\n",
    "ztest(diff, value = 0)"
   ]
  },
  {
   "cell_type": "markdown",
   "metadata": {},
   "source": [
    "Since the p-value of the test (0.0280) is less than .05, we reject the null hypothesis.\n",
    "\n",
    "This means we have sufficient evidence to say that the mean jump height before and after using the training program is not equal."
   ]
  },
  {
   "cell_type": "markdown",
   "metadata": {},
   "source": [
    "### Chi-Square Test of Independence\n",
    "\n",
    "\n",
    "it's used to determine whether or not there is a significant association between two categorical variables.\n",
    "\n",
    "Suppose we want to know whether or not gender is associated with political party preference. We take a simple random sample of 500 voters and survey them on their political party preference. The following table shows the results of the survey:\n",
    "\n",
    "Republican\tDemocrat Independent Total\n",
    "\n",
    "Male\t120\t90\t40\t250\n",
    "\n",
    "Female\t110\t95\t45\t250\n",
    "\n",
    "Total\t230\t185\t85\t500"
   ]
  },
  {
   "cell_type": "code",
   "execution_count": 24,
   "metadata": {},
   "outputs": [
    {
     "data": {
      "text/plain": [
       "(0.8640353908896108,\n",
       " 0.6491978887380976,\n",
       " 2,\n",
       " array([[115. ,  92.5,  42.5],\n",
       "        [115. ,  92.5,  42.5]]))"
      ]
     },
     "execution_count": 24,
     "metadata": {},
     "output_type": "execute_result"
    }
   ],
   "source": [
    "data = [[120, 90, 40],\n",
    "        [110, 95, 45]] # create a table, each row, represent a variable\n",
    "\n",
    "stats.chi2_contingency(data)\n"
   ]
  },
  {
   "cell_type": "markdown",
   "metadata": {},
   "source": [
    "The way to interpret the output is as follows:\n",
    "\n",
    "Chi-Square Test Statistic: 0.864\n",
    "p-value: 0.649\n",
    "Degrees of freedom: 2 (calculated as #rows-1 * #columns-1)\n",
    "Array: The last array displays the expected values for each cell in the contingency table.\n",
    "Recall that the Chi-Square Test of Independence uses the following null and alternative hypotheses:\n",
    "\n",
    "H0: (null hypothesis) The two variables are independent.\n",
    "H1: (alternative hypothesis) The two variables are not independent.\n",
    "Since the p-value (.649) of the test is not less than 0.05, we fail to reject the null hypothesis. This means we do not have sufficient evidence to say that there is an association between the two variables.\n",
    "\n",
    "In other words, gender and political party prefrence are independent(no relationship between your gender and the type of political party you support)"
   ]
  }
 ],
 "metadata": {
  "kernelspec": {
   "display_name": "Python 3.10.0 64-bit",
   "language": "python",
   "name": "python3"
  },
  "language_info": {
   "codemirror_mode": {
    "name": "ipython",
    "version": 3
   },
   "file_extension": ".py",
   "mimetype": "text/x-python",
   "name": "python",
   "nbconvert_exporter": "python",
   "pygments_lexer": "ipython3",
   "version": "3.10.0"
  },
  "orig_nbformat": 4,
  "vscode": {
   "interpreter": {
    "hash": "26de051ba29f2982a8de78e945f0abaf191376122a1563185a90213a26c5da77"
   }
  }
 },
 "nbformat": 4,
 "nbformat_minor": 2
}
